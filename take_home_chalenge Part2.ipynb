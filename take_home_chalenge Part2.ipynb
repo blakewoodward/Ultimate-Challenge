{
 "cells": [
  {
   "cell_type": "markdown",
   "id": "1904efad",
   "metadata": {},
   "source": [
    "# Experiment and Metrics Design"
   ]
  },
  {
   "cell_type": "markdown",
   "id": "c8fb96e9",
   "metadata": {},
   "source": [
    "#### 1.) What key measure of success would you choose to encourage drivers to serve both cities, and why choose this metric?"
   ]
  },
  {
   "cell_type": "markdown",
   "id": "ce7d0db6",
   "metadata": {},
   "source": [
    "The metric I would choose it the average increase in hourly earnings a driver would recieve if they chose to fill their down time by making trips to the adjecent city. I chose this metric because it will motivate drivers to travel between cities to boost their earnings."
   ]
  },
  {
   "cell_type": "markdown",
   "id": "b575ca47",
   "metadata": {},
   "source": [
    "#### 2.) Describe an experiment you would design to compare the effectiveness of the proposed change in relation to the key measure of success."
   ]
  },
  {
   "cell_type": "markdown",
   "id": "1bbcb236",
   "metadata": {},
   "source": [
    "###### a.) How will you implement the experiment?"
   ]
  },
  {
   "cell_type": "markdown",
   "id": "721b8dc8",
   "metadata": {},
   "source": [
    "The experiment will be implemented by offering to pay the tolls for a few dirvers who have already expressed interested in working both cities. We would ask them to spend any down time in their main city looking for riders in the adjacent city. We will then track their earnings and compare them to earnings made durring the same months in previous years. "
   ]
  },
  {
   "cell_type": "markdown",
   "id": "390f4cd0",
   "metadata": {},
   "source": [
    "###### b.) What statistical test will you conduct to verify the significance of the obsrevation"
   ]
  },
  {
   "cell_type": "markdown",
   "id": "be491a1d",
   "metadata": {},
   "source": [
    "To verify the significance of the observation I will conduct a hypothesis test, with the null hypothesis being no significant change in earnings (ie the difference in earnings is equal to zero), and the alternative being that the earnings have increased (ie difference is greater than zero). This will be a one tailed test since we are only interested in a positive change in earnings. "
   ]
  },
  {
   "cell_type": "markdown",
   "id": "63e2509a",
   "metadata": {},
   "source": [
    "###### c.) How would yo interpret the results and provide recommendations to the city operations team along with any caveats"
   ]
  },
  {
   "cell_type": "markdown",
   "id": "b95b5acc",
   "metadata": {},
   "source": [
    "If the results show an average increase in driver hourly earnings, and if the average increase in large enough to be motivating, then I would encourage the operations team to release the resutls of the experiment to drivers. This will motivate drivers to travel between the two cities if Ultimate decides to pay for their tolls."
   ]
  },
  {
   "cell_type": "markdown",
   "id": "c6fa807c",
   "metadata": {},
   "source": [
    "It is important to recognize that this is not necissarily an endrocement of the plan to pay the tolls for drivers, it is only an experient to see if drivers can be motivated to work in both cities if Ultimate offers to pay their toll fees. Whether or not Ultimate should pay their fees is another question, for which many other things need to be conisdered. Is there excess demand between the two cities? While we may be able to determine if drivesrs will earn more, will Ultimate earn more by paying for driver's tolls? By opening this program to all drivers will the average increase in earnings recorded by the experiment stay consistent? All of these must be considered before Ultimate can safely say it is worth while paying for driver tolls. "
   ]
  },
  {
   "cell_type": "code",
   "execution_count": null,
   "id": "64777411",
   "metadata": {},
   "outputs": [],
   "source": []
  }
 ],
 "metadata": {
  "kernelspec": {
   "display_name": "capstone2_venv",
   "language": "python",
   "name": "capstone2_venv"
  },
  "language_info": {
   "codemirror_mode": {
    "name": "ipython",
    "version": 3
   },
   "file_extension": ".py",
   "mimetype": "text/x-python",
   "name": "python",
   "nbconvert_exporter": "python",
   "pygments_lexer": "ipython3",
   "version": "3.9.7"
  }
 },
 "nbformat": 4,
 "nbformat_minor": 5
}
