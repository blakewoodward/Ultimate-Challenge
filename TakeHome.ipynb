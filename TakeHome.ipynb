{
 "cells": [
  {
   "cell_type": "code",
   "execution_count": 1,
   "metadata": {},
   "outputs": [],
   "source": [
    "import json \n",
    "import pandas as pd\n",
    "import numpy as np \n",
    "import matplotlib.pyplot as plt \n",
    "import seaborn as sns"
   ]
  },
  {
   "cell_type": "code",
   "execution_count": 2,
   "metadata": {},
   "outputs": [],
   "source": [
    "with open(r\"C:\\Users\\BHernandez\\OneDrive - SMA, Inc\\Documents\\VS Code\\Other\\1631809090_1481053515_ultimate_challenge_3_\\ultimate_challenge\\ultimate_data_challenge.json\") as f:\n",
    "    data = json.load(f)"
   ]
  },
  {
   "cell_type": "code",
   "execution_count": 3,
   "metadata": {},
   "outputs": [],
   "source": [
    "df = pd.DataFrame(data)\n",
    "\n",
    "df.signup_date = pd.to_datetime(df.signup_date)\n",
    "df.last_trip_date = pd.to_datetime(df.last_trip_date)"
   ]
  },
  {
   "cell_type": "code",
   "execution_count": 4,
   "metadata": {},
   "outputs": [
    {
     "name": "stdout",
     "output_type": "stream",
     "text": [
      "<class 'pandas.core.frame.DataFrame'>\n",
      "RangeIndex: 50000 entries, 0 to 49999\n",
      "Data columns (total 12 columns):\n",
      " #   Column                  Non-Null Count  Dtype         \n",
      "---  ------                  --------------  -----         \n",
      " 0   city                    50000 non-null  object        \n",
      " 1   trips_in_first_30_days  50000 non-null  int64         \n",
      " 2   signup_date             50000 non-null  datetime64[ns]\n",
      " 3   avg_rating_of_driver    41878 non-null  float64       \n",
      " 4   avg_surge               50000 non-null  float64       \n",
      " 5   last_trip_date          50000 non-null  datetime64[ns]\n",
      " 6   phone                   49604 non-null  object        \n",
      " 7   surge_pct               50000 non-null  float64       \n",
      " 8   ultimate_black_user     50000 non-null  bool          \n",
      " 9   weekday_pct             50000 non-null  float64       \n",
      " 10  avg_dist                50000 non-null  float64       \n",
      " 11  avg_rating_by_driver    49799 non-null  float64       \n",
      "dtypes: bool(1), datetime64[ns](2), float64(6), int64(1), object(2)\n",
      "memory usage: 4.2+ MB\n"
     ]
    }
   ],
   "source": [
    "df.info()"
   ]
  },
  {
   "cell_type": "code",
   "execution_count": 5,
   "metadata": {},
   "outputs": [
    {
     "name": "stderr",
     "output_type": "stream",
     "text": [
      "c:\\Users\\BHernandez\\venv1\\lib\\site-packages\\pandas\\core\\indexing.py:1732: SettingWithCopyWarning: \n",
      "A value is trying to be set on a copy of a slice from a DataFrame\n",
      "\n",
      "See the caveats in the documentation: https://pandas.pydata.org/pandas-docs/stable/user_guide/indexing.html#returning-a-view-versus-a-copy\n",
      "  self._setitem_single_block(indexer, value, name)\n"
     ]
    }
   ],
   "source": [
    "# Create target feature\n",
    "df['active'] = 0\n",
    "cutoff = df['last_trip_date'].max() - pd.DateOffset(months=1)\n",
    "\n",
    "df['active'].loc[df.last_trip_date >= cutoff] = 1"
   ]
  },
  {
   "cell_type": "markdown",
   "metadata": {},
   "source": [
    "### Examine Missing Values"
   ]
  },
  {
   "cell_type": "code",
   "execution_count": 6,
   "metadata": {},
   "outputs": [
    {
     "data": {
      "text/plain": [
       "count    41878.000000\n",
       "mean         4.601559\n",
       "std          0.617338\n",
       "min          1.000000\n",
       "25%          4.300000\n",
       "50%          4.900000\n",
       "75%          5.000000\n",
       "max          5.000000\n",
       "Name: avg_rating_of_driver, dtype: float64"
      ]
     },
     "execution_count": 6,
     "metadata": {},
     "output_type": "execute_result"
    }
   ],
   "source": [
    "df.avg_rating_of_driver.describe()"
   ]
  },
  {
   "cell_type": "code",
   "execution_count": 7,
   "metadata": {},
   "outputs": [],
   "source": [
    "# Fill missing reviews of drives with median since data is skewed\n",
    "df.avg_rating_of_driver = df.avg_rating_of_driver.fillna(df.avg_rating_of_driver.median())"
   ]
  },
  {
   "cell_type": "code",
   "execution_count": 8,
   "metadata": {},
   "outputs": [
    {
     "data": {
      "text/plain": [
       "count    49799.000000\n",
       "mean         4.778158\n",
       "std          0.446652\n",
       "min          1.000000\n",
       "25%          4.700000\n",
       "50%          5.000000\n",
       "75%          5.000000\n",
       "max          5.000000\n",
       "Name: avg_rating_by_driver, dtype: float64"
      ]
     },
     "execution_count": 8,
     "metadata": {},
     "output_type": "execute_result"
    }
   ],
   "source": [
    "df.avg_rating_by_driver.describe()"
   ]
  },
  {
   "cell_type": "code",
   "execution_count": 9,
   "metadata": {},
   "outputs": [],
   "source": [
    "# Fill missing reviews by drivers with median since data is skewed\n",
    "df.avg_rating_by_driver.fillna(df.avg_rating_by_driver.median(), inplace=True)"
   ]
  },
  {
   "cell_type": "code",
   "execution_count": 10,
   "metadata": {},
   "outputs": [],
   "source": [
    "df.ultimate_black_user = df['ultimate_black_user'].astype('int')"
   ]
  },
  {
   "cell_type": "code",
   "execution_count": 11,
   "metadata": {},
   "outputs": [
    {
     "name": "stdout",
     "output_type": "stream",
     "text": [
      "<class 'pandas.core.frame.DataFrame'>\n",
      "Int64Index: 49604 entries, 0 to 49999\n",
      "Data columns (total 13 columns):\n",
      " #   Column                  Non-Null Count  Dtype         \n",
      "---  ------                  --------------  -----         \n",
      " 0   city                    49604 non-null  object        \n",
      " 1   trips_in_first_30_days  49604 non-null  int64         \n",
      " 2   signup_date             49604 non-null  datetime64[ns]\n",
      " 3   avg_rating_of_driver    49604 non-null  float64       \n",
      " 4   avg_surge               49604 non-null  float64       \n",
      " 5   last_trip_date          49604 non-null  datetime64[ns]\n",
      " 6   phone                   49604 non-null  object        \n",
      " 7   surge_pct               49604 non-null  float64       \n",
      " 8   ultimate_black_user     49604 non-null  int32         \n",
      " 9   weekday_pct             49604 non-null  float64       \n",
      " 10  avg_dist                49604 non-null  float64       \n",
      " 11  avg_rating_by_driver    49604 non-null  float64       \n",
      " 12  active                  49604 non-null  int64         \n",
      "dtypes: datetime64[ns](2), float64(6), int32(1), int64(2), object(2)\n",
      "memory usage: 5.1+ MB\n"
     ]
    }
   ],
   "source": [
    "# Drop missing phone type values\n",
    "df.dropna(inplace=True)\n",
    "df.info()"
   ]
  },
  {
   "cell_type": "markdown",
   "metadata": {},
   "source": [
    "### Visualize Data"
   ]
  },
  {
   "cell_type": "code",
   "execution_count": 12,
   "metadata": {},
   "outputs": [
    {
     "data": {
      "text/plain": [
       "<AxesSubplot:>"
      ]
     },
     "execution_count": 12,
     "metadata": {},
     "output_type": "execute_result"
    },
    {
     "data": {
      "image/png": "[encoded data removed]",
      "text/plain": [
       "<Figure size 864x720 with 2 Axes>"
      ]
     },
     "metadata": {
      "needs_background": "light"
     },
     "output_type": "display_data"
    }
   ],
   "source": [
    "plt.figure(figsize=(12,10))\n",
    "sns.heatmap(df.drop(columns=['city', 'phone', 'signup_date', 'last_trip_date', 'ultimate_black_user']).corr())"
   ]
  },
  {
   "cell_type": "code",
   "execution_count": 49,
   "metadata": {},
   "outputs": [
    {
     "data": {
      "text/html": [
       "<div>\n",
       "<style scoped>\n",
       "    .dataframe tbody tr th:only-of-type {\n",
       "        vertical-align: middle;\n",
       "    }\n",
       "\n",
       "    .dataframe tbody tr th {\n",
       "        vertical-align: top;\n",
       "    }\n",
       "\n",
       "    .dataframe thead th {\n",
       "        text-align: right;\n",
       "    }\n",
       "</style>\n",
       "<table border=\"1\" class=\"dataframe\">\n",
       "  <thead>\n",
       "    <tr style=\"text-align: right;\">\n",
       "      <th></th>\n",
       "      <th>avg_dist</th>\n",
       "      <th>active</th>\n",
       "    </tr>\n",
       "  </thead>\n",
       "  <tbody>\n",
       "    <tr>\n",
       "      <th>avg_dist</th>\n",
       "      <td>1.000000</td>\n",
       "      <td>-0.092014</td>\n",
       "    </tr>\n",
       "    <tr>\n",
       "      <th>active</th>\n",
       "      <td>-0.092014</td>\n",
       "      <td>1.000000</td>\n",
       "    </tr>\n",
       "  </tbody>\n",
       "</table>\n",
       "</div>"
      ],
      "text/plain": [
       "          avg_dist    active\n",
       "avg_dist  1.000000 -0.092014\n",
       "active   -0.092014  1.000000"
      ]
     },
     "execution_count": 49,
     "metadata": {},
     "output_type": "execute_result"
    }
   ],
   "source": [
    "df[['avg_dist', 'active']].corr()"
   ]
  },
  {
   "cell_type": "markdown",
   "metadata": {},
   "source": [
    "### Encode catagorical variables"
   ]
  },
  {
   "cell_type": "code",
   "execution_count": 13,
   "metadata": {},
   "outputs": [],
   "source": [
    "df = pd.get_dummies(df, columns=['city', 'phone'], drop_first=True, dtype=int)"
   ]
  },
  {
   "cell_type": "code",
   "execution_count": 14,
   "metadata": {},
   "outputs": [
    {
     "name": "stdout",
     "output_type": "stream",
     "text": [
      "Percent of drivers retained: 0.37640109668575117\n"
     ]
    }
   ],
   "source": [
    "# Fraction of drivers that have been retained after six months\n",
    "retained = df['active'].mean()\n",
    "print('Percent of drivers retained:', retained)"
   ]
  },
  {
   "cell_type": "markdown",
   "metadata": {},
   "source": [
    "# Modeling"
   ]
  },
  {
   "cell_type": "code",
   "execution_count": 37,
   "metadata": {},
   "outputs": [],
   "source": [
    "from sklearn.neighbors import KNeighborsClassifier\n",
    "from sklearn.ensemble import RandomForestClassifier\n",
    "from sklearn.svm import SVC\n",
    "from sklearn.ensemble import GradientBoostingClassifier\n",
    "from sklearn.pipeline import Pipeline \n",
    "from sklearn.model_selection import GridSearchCV \n",
    "from sklearn.preprocessing import StandardScaler\n",
    "from sklearn.metrics import confusion_matrix, classification_report, roc_auc_score\n",
    "from sklearn.model_selection import train_test_split"
   ]
  },
  {
   "cell_type": "code",
   "execution_count": 17,
   "metadata": {},
   "outputs": [],
   "source": [
    "# Split data into train/test sets\n",
    "X_train, X_test, y_train, y_test = train_test_split(df.drop(columns=['active', 'signup_date', 'last_trip_date']), df.active, test_size=0.7, random_state=42)"
   ]
  },
  {
   "cell_type": "markdown",
   "metadata": {},
   "source": [
    "##### K Nearest Neighbors"
   ]
  },
  {
   "cell_type": "code",
   "execution_count": 23,
   "metadata": {},
   "outputs": [
    {
     "data": {
      "text/plain": [
       "GridSearchCV(cv=5, estimator=KNeighborsClassifier(),\n",
       "             param_grid={'n_neighbors': [3, 6, 9, 12, 15, 17]}, scoring='f1')"
      ]
     },
     "execution_count": 23,
     "metadata": {},
     "output_type": "execute_result"
    }
   ],
   "source": [
    "knn = KNeighborsClassifier()\n",
    "params = {'n_neighbors':[3,6,9,12,15,17]}\n",
    "\n",
    "clf = GridSearchCV(knn, params, cv=5, scoring='f1')\n",
    "clf.fit(X_train, y_train)"
   ]
  },
  {
   "cell_type": "code",
   "execution_count": 24,
   "metadata": {},
   "outputs": [
    {
     "data": {
      "text/plain": [
       "dict_keys(['mean_fit_time', 'std_fit_time', 'mean_score_time', 'std_score_time', 'param_n_neighbors', 'params', 'split0_test_score', 'split1_test_score', 'split2_test_score', 'split3_test_score', 'split4_test_score', 'mean_test_score', 'std_test_score', 'rank_test_score'])"
      ]
     },
     "execution_count": 24,
     "metadata": {},
     "output_type": "execute_result"
    }
   ],
   "source": [
    "clf.cv_results_.keys()"
   ]
  },
  {
   "cell_type": "code",
   "execution_count": 25,
   "metadata": {},
   "outputs": [
    {
     "name": "stdout",
     "output_type": "stream",
     "text": [
      "[{'n_neighbors': 3}, {'n_neighbors': 6}, {'n_neighbors': 9}, {'n_neighbors': 12}, {'n_neighbors': 15}, {'n_neighbors': 17}]\n",
      "[0.62440568 0.59287003 0.63314589 0.61321237 0.63789812 0.63387653]\n"
     ]
    }
   ],
   "source": [
    "print(clf.cv_results_['params'])\n",
    "print(clf.cv_results_['mean_test_score'])"
   ]
  },
  {
   "cell_type": "code",
   "execution_count": 26,
   "metadata": {},
   "outputs": [
    {
     "data": {
      "text/plain": [
       "KNeighborsClassifier(n_neighbors=15)"
      ]
     },
     "execution_count": 26,
     "metadata": {},
     "output_type": "execute_result"
    }
   ],
   "source": [
    "knn = KNeighborsClassifier(15)\n",
    "knn.fit(X_train, y_train)"
   ]
  },
  {
   "cell_type": "code",
   "execution_count": 27,
   "metadata": {},
   "outputs": [
    {
     "name": "stdout",
     "output_type": "stream",
     "text": [
      "K Nearest Neighbors test accuracy: 0.7449817124096421\n"
     ]
    }
   ],
   "source": [
    "knn_pred = knn.predict(X_test)\n",
    "print(\"K Nearest Neighbors test accuracy:\", knn.score(X_test, y_test))"
   ]
  },
  {
   "cell_type": "code",
   "execution_count": 41,
   "metadata": {},
   "outputs": [
    {
     "name": "stdout",
     "output_type": "stream",
     "text": [
      "              precision    recall  f1-score   support\n",
      "\n",
      "           0       0.77      0.84      0.80     21657\n",
      "           1       0.69      0.59      0.64     13066\n",
      "\n",
      "    accuracy                           0.74     34723\n",
      "   macro avg       0.73      0.71      0.72     34723\n",
      "weighted avg       0.74      0.74      0.74     34723\n",
      "\n",
      "[[18125  3532]\n",
      " [ 5323  7743]]\n",
      "0.8004291382289712\n"
     ]
    }
   ],
   "source": [
    "print(classification_report(y_test, knn_pred))\n",
    "print(confusion_matrix(y_test, knn_pred))\n",
    "print(roc_auc_score(y_test, knn.predict_proba(X_test)[:, 1]))"
   ]
  },
  {
   "cell_type": "markdown",
   "metadata": {},
   "source": [
    "The Knn model seems to be good at predicting users who will not be retained, but struggles with predicting users who will be retained. The recall of 0.59 for retained users is particularly low."
   ]
  },
  {
   "cell_type": "markdown",
   "metadata": {},
   "source": [
    "### Random Forest"
   ]
  },
  {
   "cell_type": "code",
   "execution_count": 66,
   "metadata": {},
   "outputs": [
    {
     "data": {
      "text/plain": [
       "GridSearchCV(cv=5, estimator=RandomForestClassifier(),\n",
       "             param_grid={'criterion': ['gini', 'entropy'],\n",
       "                         'n_estimators': [10, 12, 16, 20, 26, 33, 42, 54, 69,\n",
       "                                          88, 112, 143, 183, 233, 297, 379],\n",
       "                         'random_state': [42]},\n",
       "             scoring='f1')"
      ]
     },
     "execution_count": 66,
     "metadata": {},
     "output_type": "execute_result"
    }
   ],
   "source": [
    "RFC = RandomForestClassifier()\n",
    "\n",
    "RFC_params = {'n_estimators':[10, 12, 16, 20,\n",
    "                              26, 33, 42, 54,\n",
    "                              69, 88, 112,\n",
    "                              143, 183, 233,\n",
    "                              297, 379],\n",
    "              'criterion':['gini', 'entropy'],\n",
    "              'random_state':[42]}\n",
    "\n",
    "RFC_clf = GridSearchCV(RFC, param_grid=RFC_params, cv=5, scoring='f1')\n",
    "RFC_clf.fit(X_train, y_train)"
   ]
  },
  {
   "cell_type": "code",
   "execution_count": 33,
   "metadata": {},
   "outputs": [],
   "source": [
    "# Function that does exactly the same thing as the previous cell\n",
    "def results(cv_results):\n",
    "    res_dict = {'mean_test_score':cv_results['mean_test_score'], 'params':cv_results['params']}\n",
    "    res_df = pd.DataFrame(res_dict)\n",
    "    res_df.sort_values(by='mean_test_score', ascending=False, inplace=True)\n",
    "    print(res_df.head())"
   ]
  },
  {
   "cell_type": "code",
   "execution_count": null,
   "metadata": {},
   "outputs": [],
   "source": [
    "results(RFC_clf.cv_results_)"
   ]
  },
  {
   "cell_type": "code",
   "execution_count": 29,
   "metadata": {},
   "outputs": [
    {
     "name": "stdout",
     "output_type": "stream",
     "text": [
      "Random Forest accuracy score: 0.7585174092100337\n"
     ]
    }
   ],
   "source": [
    "RFC = RandomForestClassifier(criterion='entropy', n_estimators=297)\n",
    "\n",
    "RFC.fit(X_train, y_train)\n",
    "RFC_pred = RFC.predict(X_test)\n",
    "\n",
    "print(\"Random Forest accuracy score:\", RFC.score(X_test, y_test))"
   ]
  },
  {
   "cell_type": "code",
   "execution_count": 42,
   "metadata": {},
   "outputs": [
    {
     "name": "stdout",
     "output_type": "stream",
     "text": [
      "              precision    recall  f1-score   support\n",
      "\n",
      "           0       0.80      0.81      0.81     21657\n",
      "           1       0.68      0.67      0.68     13066\n",
      "\n",
      "    accuracy                           0.76     34723\n",
      "   macro avg       0.74      0.74      0.74     34723\n",
      "weighted avg       0.76      0.76      0.76     34723\n",
      "\n",
      "[[17583  4074]\n",
      " [ 4311  8755]]\n",
      "0.8235417160048726\n"
     ]
    }
   ],
   "source": [
    "print(classification_report(y_test, RFC_pred))\n",
    "print(confusion_matrix(y_test, RFC_pred))\n",
    "print(roc_auc_score(y_test, RFC.predict_proba(X_test)[:, 1]))"
   ]
  },
  {
   "cell_type": "markdown",
   "metadata": {},
   "source": [
    "The random forest model performs better than the KNN model, but seems to have the same difficulty with classifying retained users."
   ]
  },
  {
   "cell_type": "markdown",
   "metadata": {},
   "source": [
    "### SVM Classifier"
   ]
  },
  {
   "cell_type": "code",
   "execution_count": 18,
   "metadata": {},
   "outputs": [
    {
     "data": {
      "text/plain": [
       "GridSearchCV(cv=5, estimator=SVC(),\n",
       "             param_grid={'C': [0.1, 1, 5, 10, 20], 'gamma': ['scale', 'auto']},\n",
       "             scoring='f1')"
      ]
     },
     "execution_count": 18,
     "metadata": {},
     "output_type": "execute_result"
    }
   ],
   "source": [
    "svm = SVC()\n",
    "\n",
    "svm_params = {'C':[0.1, 1, 5, 10, 20], 'gamma':['scale', 'auto']}\n",
    "svm_clf = GridSearchCV(svm, param_grid=svm_params, cv=5, scoring='f1')\n",
    "\n",
    "scaler = StandardScaler()\n",
    "X_train_scaled = scaler.fit_transform(X_train)\n",
    "\n",
    "svm_clf.fit(X_train_scaled, y_train)"
   ]
  },
  {
   "cell_type": "code",
   "execution_count": 28,
   "metadata": {},
   "outputs": [
    {
     "name": "stdout",
     "output_type": "stream",
     "text": [
      "   mean_test_score                       params\n",
      "8         0.666591  {'C': 20, 'gamma': 'scale'}\n",
      "9         0.666583   {'C': 20, 'gamma': 'auto'}\n",
      "4         0.665576   {'C': 5, 'gamma': 'scale'}\n",
      "6         0.665340  {'C': 10, 'gamma': 'scale'}\n",
      "5         0.665118    {'C': 5, 'gamma': 'auto'}\n"
     ]
    }
   ],
   "source": [
    "results(svm_clf.cv_results_)"
   ]
  },
  {
   "cell_type": "code",
   "execution_count": 44,
   "metadata": {},
   "outputs": [
    {
     "name": "stdout",
     "output_type": "stream",
     "text": [
      "SVM classifier accuracy: 0.7674740085822077\n"
     ]
    }
   ],
   "source": [
    "svm = SVC(C=20, gamma='scale', probability=True)\n",
    "svm.fit(X_train_scaled, y_train)\n",
    "\n",
    "X_test_scaled = scaler.transform(X_test)\n",
    "\n",
    "print('SVM classifier accuracy:', svm.score(X_test_scaled, y_test))"
   ]
  },
  {
   "cell_type": "code",
   "execution_count": 46,
   "metadata": {},
   "outputs": [
    {
     "name": "stdout",
     "output_type": "stream",
     "text": [
      "              precision    recall  f1-score   support\n",
      "\n",
      "           0       0.79      0.85      0.82     21657\n",
      "           1       0.72      0.62      0.67     13066\n",
      "\n",
      "    accuracy                           0.77     34723\n",
      "   macro avg       0.76      0.74      0.74     34723\n",
      "weighted avg       0.76      0.77      0.76     34723\n",
      "\n",
      "[[18512  3145]\n",
      " [ 4929  8137]]\n",
      "0.8113063798533078\n"
     ]
    }
   ],
   "source": [
    "svm_pred = svm.predict(X_test_scaled)\n",
    "\n",
    "print(classification_report(y_test, svm_pred))\n",
    "print(confusion_matrix(y_test, svm_pred))\n",
    "print(roc_auc_score(y_test, svm.predict_proba(X_test_scaled)[:, 1]))"
   ]
  },
  {
   "cell_type": "markdown",
   "metadata": {},
   "source": [
    "### Gradient Boosting"
   ]
  },
  {
   "cell_type": "code",
   "execution_count": 20,
   "metadata": {},
   "outputs": [
    {
     "data": {
      "text/plain": [
       "GridSearchCV(cv=5, estimator=GradientBoostingClassifier(),\n",
       "             param_grid={'max_depth': [3, 10], 'n_estimators': [50, 100, 150],\n",
       "                         'random_state': [42]},\n",
       "             scoring='f1')"
      ]
     },
     "execution_count": 20,
     "metadata": {},
     "output_type": "execute_result"
    }
   ],
   "source": [
    "GB = GradientBoostingClassifier()\n",
    "\n",
    "GB_params = {'n_estimators':[50, 100, 150], 'max_depth':[3, 10], 'random_state':[42]}\n",
    "\n",
    "GB_clf = GridSearchCV(GB, param_grid=GB_params, cv=5, scoring='f1')\n",
    "\n",
    "GB_clf.fit(X_train, y_train)"
   ]
  },
  {
   "cell_type": "code",
   "execution_count": 34,
   "metadata": {},
   "outputs": [
    {
     "name": "stdout",
     "output_type": "stream",
     "text": [
      "   mean_test_score                                             params\n",
      "2         0.699708  {'max_depth': 3, 'n_estimators': 150, 'random_...\n",
      "1         0.699288  {'max_depth': 3, 'n_estimators': 100, 'random_...\n",
      "0         0.690735  {'max_depth': 3, 'n_estimators': 50, 'random_s...\n",
      "4         0.683515  {'max_depth': 10, 'n_estimators': 100, 'random...\n",
      "3         0.682226  {'max_depth': 10, 'n_estimators': 50, 'random_...\n"
     ]
    }
   ],
   "source": [
    "results(GB_clf.cv_results_)"
   ]
  },
  {
   "cell_type": "code",
   "execution_count": 35,
   "metadata": {},
   "outputs": [
    {
     "name": "stdout",
     "output_type": "stream",
     "text": [
      "GB test accuracy: 0.7848688189384557\n"
     ]
    }
   ],
   "source": [
    "GB = GradientBoostingClassifier(max_depth=3, n_estimators=150)\n",
    "\n",
    "GB.fit(X_train, y_train)\n",
    "\n",
    "GB_pred = GB.predict(X_test)\n",
    "\n",
    "print('GB test accuracy:', GB.score(X_test, y_test))"
   ]
  },
  {
   "cell_type": "code",
   "execution_count": 47,
   "metadata": {},
   "outputs": [
    {
     "name": "stdout",
     "output_type": "stream",
     "text": [
      "              precision    recall  f1-score   support\n",
      "\n",
      "           0       0.81      0.86      0.83     21657\n",
      "           1       0.74      0.67      0.70     13066\n",
      "\n",
      "    accuracy                           0.78     34723\n",
      "   macro avg       0.77      0.76      0.77     34723\n",
      "weighted avg       0.78      0.78      0.78     34723\n",
      "\n",
      "[[18548  3109]\n",
      " [ 4361  8705]]\n",
      "0.8515010610899243\n"
     ]
    }
   ],
   "source": [
    "print(classification_report(y_test, GB_pred))\n",
    "print(confusion_matrix(y_test, GB_pred))\n",
    "print(roc_auc_score(y_test, GB.predict_proba(X_test)[:, 1]))"
   ]
  },
  {
   "cell_type": "markdown",
   "metadata": {},
   "source": [
    "So far the Gradient Boosted model has the best performace"
   ]
  },
  {
   "cell_type": "markdown",
   "metadata": {},
   "source": [
    "# Conclusions"
   ]
  },
  {
   "cell_type": "markdown",
   "metadata": {},
   "source": [
    "The best predictive model is the Gradient Boosted model. This model retruned the highest AUC and F1 score. The model also had the highest accuracy out of all the models, and tied for the highest recall for retained users, which is what most of the models struggled with. \n",
    "\n",
    "The Gradient Boosted model is good at predicting users who will not be retained in 6 months, with a percison of 81% (indicating that 81% of the positive predictions are correct) and a recall of 86% (indicating that 86% of the positive samples were predicted correctly). Where the model struggles is with predicting users that will be retained after 6 months, with a precison of 74% (indicating that 74% of the positive predictions are correct) and a recall of 67% (indicating that only 67% of the positive samples were predicted correctly). What this ultimately means is that this model could be effectively used to predict if a user will not be retaiend, allowing Ultimate the chance to entice them to stay, but should not be relied on to determine if a user is likely to be active after 6 months. \n",
    "\n",
    "\n",
    "The strongest predictors of whether a user remains active after 6 months are the number of trips taken in the first 30 days and the average distance a user's trips are. The number of trips in the first 30 days had the strongest positive correlation with user retention, and the average trip distance was the only feature that had a negative correlation with user retention. This indicates that users who use Ultimate for convenience, paying for cheeper rides to get around town, are more likely to be retained than users who use Ultimate for longer trips every once in a while (like trips to the airport). Based on this information I would recommend that Ultimate try to promote itself more in urban environments, where the trips will be shorter in distance, and the price of a trip is less daunting to a user."
   ]
  }
 ],
 "metadata": {
  "interpreter": {
   "hash": "95337bd8baf183279b417a0d6be82a8211569c9a72dd159989cb8286a2d2d425"
  },
  "kernelspec": {
   "display_name": "Python 3.8.10 64-bit ('venv1': venv)",
   "language": "python",
   "name": "python3"
  },
  "language_info": {
   "codemirror_mode": {
    "name": "ipython",
    "version": 3
   },
   "file_extension": ".py",
   "mimetype": "text/x-python",
   "name": "python",
   "nbconvert_exporter": "python",
   "pygments_lexer": "ipython3",
   "version": "3.8.10"
  },
  "orig_nbformat": 4
 },
 "nbformat": 4,
 "nbformat_minor": 2
}
